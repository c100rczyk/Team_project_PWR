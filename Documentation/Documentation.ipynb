{
 "cells": [
  {
   "cell_type": "markdown",
   "id": "8d73f5994769668f",
   "metadata": {
    "collapsed": false,
    "jupyter": {
     "outputs_hidden": false
    }
   },
   "source": [
    "# In What form is our dataset and how to use it:\n",
    "+ Our touple_of_products is Batchdataset.  ( (None,258,320,3) , (None, 258, 320,3), float32 )\n",
    "+ First element is touple of \"None\" images. Where None is number of images in batch. In our case see on \"batch_size\"\n",
    "+ So if for example batch_size = 8    we have  ( (8,258,320,3) , (8, 258,320,3), float32 )\n",
    "+ Float32 is type of data of our labels. Each pair of images has own label  0-if same type,   1 - if different types of products\n",
    "\n",
    "### Now if we get     for img1, label in touple_of_products:\n",
    "img1 is touple of 2 touples : ( (8,258,320,3), (8,258,320,3) )\n",
    "if we get img1[0] it means we get 8 images \n",
    "if we get img1[1] we also get 8 images\n",
    "\n",
    "+ img1[0][x], img1[1][x],  label[x]  ,  if \"x\" is even(parzyste) we have same kind of labels\n",
    "+ or\n",
    "+ img1[0][x],  img1[1][x], label[x] ,  if \"x\" is odd (nieparzyste) we have different kind of labels\n",
    "\n",
    "if we get for exp: img1[0][2] and img1[1][2]  than we also get label[2] \n",
    "we have pair of same kind of images.\n",
    "\n",
    "number_of_pairs = 16\n",
    "Then it is created 32 pairs (because on the return of get_next_element() there are 2 yields : one for positive pair and one for negative)\n",
    "\n",
    "Because we have 32 pairs, and have specified batch_size = 8 :\n",
    "+ we can get touples 4 times from touple_of_products (4*8 = 32). ."
   ]
  },
  {
   "cell_type": "code",
   "execution_count": null,
   "id": "6a6f8525a8b50b01",
   "metadata": {
    "collapsed": false,
    "jupyter": {
     "outputs_hidden": false
    }
   },
   "outputs": [],
   "source": []
  }
 ],
 "metadata": {
  "kernelspec": {
   "display_name": "Python 3 (ipykernel)",
   "language": "python",
   "name": "python3"
  },
  "language_info": {
   "codemirror_mode": {
    "name": "ipython",
    "version": 3
   },
   "file_extension": ".py",
   "mimetype": "text/x-python",
   "name": "python",
   "nbconvert_exporter": "python",
   "pygments_lexer": "ipython3",
   "version": "3.11.5"
  }
 },
 "nbformat": 4,
 "nbformat_minor": 5
}
