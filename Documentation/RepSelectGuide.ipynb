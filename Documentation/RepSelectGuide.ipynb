{
 "cells": [
  {
   "cell_type": "markdown",
   "id": "c34eabe89cdb7fb3",
   "metadata": {
    "collapsed": false
   },
   "source": [
    "# Guidelines for selecting Representatives\n",
    "\n",
    "## 5 representants:\n",
    "+ słabsze oświetlenie, 3-4 owoce, ułożone obok siebie , umieszczone bardziej na boku\n",
    "+ dobrze oświetlone / lekko prześwietlone , 7-9 owoców, ułożone obok siebie, umieszczone ok. na środku\n",
    "+ dobrze oświetlone, 1 owoc, umieszczony ok. na środku\n",
    "+ kilka owoców, jeden na drugim\n",
    "+ ucięte zdjęcie tacki."
   ]
  },
  {
   "cell_type": "markdown",
   "id": "b4cde55771843c75",
   "metadata": {
    "collapsed": false
   },
   "source": [
    "## 10 representatives\n",
    "\n",
    "Te co były dla 5 PLUS:\n",
    "\n",
    "+ wyróżniające się owoce , np lekko zgniły\n",
    "+ zdjęcie z ręką\n",
    "+ mocniej przyciemnione zdjęcie\n",
    "+ jeden owoc gdzieś na boku\n",
    "+ ucięte zdjęcie tacki i owoców\n",
    "\n"
   ]
  },
  {
   "cell_type": "markdown",
   "id": "e0a2af237dd481f4",
   "metadata": {
    "collapsed": false
   },
   "source": [
    "Im mniej produktów tym ważniejsze jest aby dobrać odpowiednie produktu, zamiast je wylosować.\n",
    "\n",
    "Testy wstępne na bardzo lekko douczonym modelu (warstw gęstych) po transfer learningu przyniosły poniższe rezultaty:\n",
    "(testy prowadzone na losowo wybieranych reprezentantach).\n",
    "\n",
    "(Każdy embedding testowy porównujemy z każdnym średnim embeddingiem reprezentantów)\n",
    "\n",
    "![picture](VGG_test1.png)\n",
    "![picture](VGG_test2.png)"
   ]
  },
  {
   "cell_type": "markdown",
   "id": "50f3721ddf5e5998",
   "metadata": {
    "collapsed": false
   },
   "source": [
    "## Wnioski\n",
    "\n",
    "+ Jeden reprezentant znacząco odstaje od 3 reprezentantów.\n",
    "+ Zwiększenie ilości reprezentantów do 10 dało bardzo duży skok wydajności modelu.\n",
    "+ Zwiększenie ilości reprezentantów do 15 nie usprawniło modelu (mniejszy wynik \n",
    "    za sprawą losowego doboru zdjęć). Tym razem dobrały się mniej różnorodnie.\n"
   ]
  },
  {
   "cell_type": "markdown",
   "source": [
    "## TESTY\n",
    "Zamieniając średnią reprezentantów na mediane reprezentantów wyniki w \n",
    "tych samych warunkach: \n",
    "\n",
    "+ 5 losowych reprezentantów:\n",
    "    + średnia -> 93.87 %\n",
    "    + mediana -> 93.37 %\n",
    "\n",
    "+ 5 dobranych reprezentantów:\n",
    "    + średnia -> 94.57 %\n",
    "    + mediana -> 92.13 %\n"
   ],
   "metadata": {
    "collapsed": false
   },
   "id": "73f7e6438d2b83b"
  },
  {
   "cell_type": "markdown",
   "source": [
    "Problem z Fine Tuning? \n",
    "\n",
    "Na początku wgrałem model VGG16, do którego dorzuciłem warstwy gęste.\n",
    "Wyniki na zdjęciu powyżej.\n",
    "\n",
    "Po zastosowaniu Fine Tuning (2 ostatnich warstw) \n",
    "![fine tuning](fine_tuning.png)\n",
    "\n",
    "+ (długi trening , dlatego ograniczyłem do 2 epok) , sieć miała \n",
    "accuracy na poziomie 60% i top5 na poziomie 90%\n",
    "\n",
    "+ następnie odblokowałem jeszcze jedną warstwę na 2 epoki treningu \n",
    "    accuracy 63% pod koniec 2 epoki wyniki pozostały na poziomie 90%"
   ],
   "metadata": {
    "collapsed": false
   },
   "id": "e97413b71d20e7b2"
  },
  {
   "cell_type": "code",
   "outputs": [],
   "source": [],
   "metadata": {
    "collapsed": false
   },
   "id": "a0e4cc5131d527a1"
  }
 ],
 "metadata": {
  "kernelspec": {
   "display_name": "Python 3 (ipykernel)",
   "language": "python",
   "name": "python3"
  },
  "language_info": {
   "codemirror_mode": {
    "name": "ipython",
    "version": 3
   },
   "file_extension": ".py",
   "mimetype": "text/x-python",
   "name": "python",
   "nbconvert_exporter": "python",
   "pygments_lexer": "ipython3",
   "version": "3.11.5"
  }
 },
 "nbformat": 4,
 "nbformat_minor": 5
}
