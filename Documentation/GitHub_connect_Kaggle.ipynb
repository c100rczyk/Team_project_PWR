{
 "cells": [
  {
   "cell_type": "markdown",
   "source": [
    "# How to connect GitHub repository with Kaggle"
   ],
   "metadata": {
    "collapsed": false
   },
   "id": "cda26cf3d72dbcf3"
  },
  {
   "cell_type": "markdown",
   "source": [
    "1. Open Kaggle Notebook\n",
    "2. Name opened notebook\n",
    "\n",
    "3. File -> Link to GitHub\n",
    "4. Type in new code cell:  !git clone https://repozytorium \n",
    "\n",
    "5. Kaggle settings / create new API\n",
    "6. Put loaded file.json to : Notebook / Input / Upload / (our file.json)\n",
    "7. Run this code cell in Notebook:\n",
    "\n",
    "(it creating new directory, in Kaggle)\n",
    "\n",
    "import os \n",
    "import shutil\n",
    "os.makedirs('/root/.kaggle', exist_ok = True)\n",
    "\n",
    "shutil.copy('/kaggle/input/kagglejson/kaggle.json', '/root/.kaggle/kaggle.json')\n",
    "\n",
    "os.chmod('/root/.kaggle/kaggle.json', 0o600)\n",
    "\n"
   ],
   "metadata": {
    "collapsed": false
   },
   "id": "81b9a824fcf2ec1a"
  },
  {
   "cell_type": "markdown",
   "source": [
    "add this befor importing everything: \n",
    "\n",
    "import sys\n",
    "sys.path.append('/kaggle/working/Team_project_PWR')\n",
    "\n"
   ],
   "metadata": {
    "collapsed": false
   },
   "id": "8b4d3215f990d9b2"
  },
  {
   "cell_type": "markdown",
   "source": [
    "Next download prepared dataset. \n",
    "Create dataset.zip   and put this to Inputs/Upload/Dataset on Kaggle in our notebook\n",
    "\n"
   ],
   "metadata": {
    "collapsed": false
   },
   "id": "dae89e4f48ea751a"
  },
  {
   "cell_type": "markdown",
   "source": [
    "Then change paths to every file  add kaggle/input/prepareddata/..."
   ],
   "metadata": {
    "collapsed": false
   },
   "id": "6884c3f74e3e8c6b"
  },
  {
   "cell_type": "markdown",
   "source": [
    "To install what you need : install like in your terminal\n",
    "yust put in kaggle notebook code cell for example:\n",
    "!pip install livelossplot"
   ],
   "metadata": {
    "collapsed": false
   },
   "id": "61f726ef96acc792"
  },
  {
   "cell_type": "code",
   "outputs": [],
   "source": [],
   "metadata": {
    "collapsed": false
   },
   "id": "e1940acc0a82a9bb"
  }
 ],
 "metadata": {
  "kernelspec": {
   "display_name": "Python 3",
   "language": "python",
   "name": "python3"
  },
  "language_info": {
   "codemirror_mode": {
    "name": "ipython",
    "version": 2
   },
   "file_extension": ".py",
   "mimetype": "text/x-python",
   "name": "python",
   "nbconvert_exporter": "python",
   "pygments_lexer": "ipython2",
   "version": "2.7.6"
  }
 },
 "nbformat": 4,
 "nbformat_minor": 5
}
