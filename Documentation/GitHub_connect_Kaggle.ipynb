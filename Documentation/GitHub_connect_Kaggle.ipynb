{
 "cells": [
  {
   "cell_type": "markdown",
   "id": "cda26cf3d72dbcf3",
   "metadata": {
    "collapsed": false,
    "jupyter": {
     "outputs_hidden": false
    }
   },
   "source": [
    "# How to connect GitHub repository with Kaggle"
   ]
  },
  {
   "cell_type": "markdown",
   "id": "81b9a824fcf2ec1a",
   "metadata": {
    "collapsed": false,
    "jupyter": {
     "outputs_hidden": false
    }
   },
   "source": [
    "1. Open Kaggle Notebook\n",
    "2. Name opened notebook\n",
    "\n",
    "3. File -> Link to GitHub\n",
    "4. Type in new code cell:  !git clone https://repozytorium \n",
    "\n",
    "5. Kaggle settings / create new API\n",
    "6. Put loaded file.json to : Notebook / Input / Upload / (our file.json)\n",
    "7. Run this code cell in Notebook:\n",
    "\n",
    "(it creating new directory, in Kaggle)\n",
    "\n",
    "import os \n",
    "import shutil\n",
    "os.makedirs('/root/.kaggle', exist_ok = True)\n",
    "\n",
    "shutil.copy('/kaggle/input/kagglejson/kaggle.json', '/root/.kaggle/kaggle.json')\n",
    "\n",
    "os.chmod('/root/.kaggle/kaggle.json', 0o600)\n",
    "\n"
   ]
  },
  {
   "cell_type": "markdown",
   "id": "8b4d3215f990d9b2",
   "metadata": {
    "collapsed": false,
    "jupyter": {
     "outputs_hidden": false
    }
   },
   "source": [
    "add this befor importing everything: \n",
    "\n",
    "import sys\n",
    "sys.path.append('/kaggle/working/Team_project_PWR')\n",
    "\n"
   ]
  },
  {
   "cell_type": "markdown",
   "id": "dae89e4f48ea751a",
   "metadata": {
    "collapsed": false,
    "jupyter": {
     "outputs_hidden": false
    }
   },
   "source": [
    "Next download prepared dataset. \n",
    "Create dataset.zip   and put this to Inputs/Upload/Dataset on Kaggle in our notebook\n",
    "\n"
   ]
  },
  {
   "cell_type": "markdown",
   "id": "6884c3f74e3e8c6b",
   "metadata": {
    "collapsed": false,
    "jupyter": {
     "outputs_hidden": false
    }
   },
   "source": [
    "Then change paths to every file  add kaggle/input/prepareddata/..."
   ]
  },
  {
   "cell_type": "markdown",
   "id": "61f726ef96acc792",
   "metadata": {
    "collapsed": false,
    "jupyter": {
     "outputs_hidden": false
    }
   },
   "source": [
    "To install what you need : install like in your terminal\n",
    "yust put in kaggle notebook code cell for example:\n",
    "!pip install livelossplot"
   ]
  },
  {
   "cell_type": "code",
   "execution_count": 1,
   "id": "e1940acc0a82a9bb",
   "metadata": {
    "collapsed": false,
    "jupyter": {
     "outputs_hidden": false
    }
   },
   "outputs": [],
   "source": [
    "# if anything important to add:"
   ]
  },
  {
   "cell_type": "code",
   "execution_count": null,
   "id": "4124b720-6772-40bb-87ff-2e396da0f9c2",
   "metadata": {},
   "outputs": [],
   "source": []
  }
 ],
 "metadata": {
  "kernelspec": {
   "display_name": "Python 3 (ipykernel)",
   "language": "python",
   "name": "python3"
  },
  "language_info": {
   "codemirror_mode": {
    "name": "ipython",
    "version": 3
   },
   "file_extension": ".py",
   "mimetype": "text/x-python",
   "name": "python",
   "nbconvert_exporter": "python",
   "pygments_lexer": "ipython3",
   "version": "3.11.5"
  }
 },
 "nbformat": 4,
 "nbformat_minor": 5
}
