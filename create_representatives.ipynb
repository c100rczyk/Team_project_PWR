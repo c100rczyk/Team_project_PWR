{
 "cells": [
  {
   "cell_type": "code",
   "execution_count": 3,
   "id": "f6c07534d9778650",
   "metadata": {
    "collapsed": false,
    "ExecuteTime": {
     "end_time": "2024-05-05T17:45:14.542773Z",
     "start_time": "2024-05-05T17:45:14.389900Z"
    }
   },
   "outputs": [],
   "source": [
    "# Creating Representatives of product classes\n",
    "import os\n",
    "import random\n",
    "import shutil\n",
    "\n",
    "#shop_path = os.path.abspath(\"data/FruitRecognition/Shop_database\")\n",
    "shop_path = os.path.abspath(\"data/FruitRecognition/Shop_database\")\n",
    "validation_path = r\"./data/FruitRecognition/Validation/\"\n",
    "\n",
    "\n",
    "for type_of_product in os.listdir(validation_path):\n",
    "    val_dir = os.path.join(validation_path, type_of_product)\n",
    "    shop_class_dir = os.path.join(shop_path, type_of_product)\n",
    "    \n",
    "    os.makedirs(shop_class_dir, exist_ok=True)\n",
    "    \n",
    "    for filename in os.listdir(shop_class_dir):\n",
    "        file_path = os.path.join(shop_class_dir, filename)\n",
    "        os.remove(file_path)\n",
    "    \n",
    "    files = [f for f in os.listdir(val_dir)]    #list of images\n",
    "    \n",
    "    for i in range(5):\n",
    "        random_selected_representative = random.choice(files)\n",
    "        path_representative = os.path.join(val_dir,random_selected_representative)\n",
    "        destination_path = os.path.join(shop_class_dir, random_selected_representative)\n",
    "        shutil.copy(path_representative, destination_path)"
   ]
  },
  {
   "cell_type": "code",
   "outputs": [],
   "source": [],
   "metadata": {
    "collapsed": false
   },
   "id": "26adf4202120b973"
  }
 ],
 "metadata": {
  "kernelspec": {
   "display_name": "Python 3 (ipykernel)",
   "language": "python",
   "name": "python3"
  },
  "language_info": {
   "codemirror_mode": {
    "name": "ipython",
    "version": 3
   },
   "file_extension": ".py",
   "mimetype": "text/x-python",
   "name": "python",
   "nbconvert_exporter": "python",
   "pygments_lexer": "ipython3",
   "version": "3.11.5"
  }
 },
 "nbformat": 4,
 "nbformat_minor": 5
}
