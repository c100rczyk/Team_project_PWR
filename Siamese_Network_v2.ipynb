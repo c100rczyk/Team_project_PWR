{
 "cells": [
  {
   "cell_type": "markdown",
   "id": "fcf866cc00cb6f58",
   "metadata": {
    "collapsed": false
   },
   "source": [
    "# Contrastive and Triplet loss in one program.\n",
    "IN ORDER OF NEED:\n",
    "+ We can choose which variant we want - Contrastive or Triplet. \n",
    "+ We want also, to compare performance of this two variants  (for now, based on the old metrics (the result will be inaccurate)\n",
    "+ New special constructed metrics that is useful in our case\n",
    "+ Module helping in creating models. The unchanging part and the variable part\n",
    "+ Function that checking and printing wrong predictions of the model\n",
    "+ TODO comments\n",
    "+ Zaimplementowanie sposobu do wyświetlania podsumowania budowy modelu triplet loss\n",
    "+ Poszukanie innych zbiorów danych\n",
    "+ Dowiedzieć się jak zapisywać modele do pliku\n",
    "+ <> IF something important put here </>"
   ]
  },
  {
   "cell_type": "code",
   "execution_count": 13,
   "id": "6cb5e524e7067add",
   "metadata": {
    "collapsed": false,
    "ExecuteTime": {
     "end_time": "2024-05-06T18:31:19.401606Z",
     "start_time": "2024-05-06T18:31:19.388361Z"
    }
   },
   "outputs": [
    {
     "name": "stdout",
     "output_type": "stream",
     "text": [
      "[ 0.    0.   -0.09  0.1   0.  ]\n",
      "tf.Tensor(\n",
      "[ 4.55151886e-01 -8.82955670e-01  4.10222709e-02 -1.95344153e-04\n",
      "  1.07439294e-01], shape=(5,), dtype=float32)\n",
      "tf.Tensor([ 0.45511734 -0.8828886   0.04277712 -0.00214862  0.10743114], shape=(5,), dtype=float32)\n",
      "tf.Tensor(\n",
      "[ 3.4540892e-05 -6.7055225e-05 -1.7548539e-03  1.9532784e-03\n",
      "  8.1583858e-06], shape=(5,), dtype=float32)\n",
      "tf.Tensor([ 0.          0.         -0.66896473  0.74329415  0.        ], shape=(5,), dtype=float64)\n"
     ]
    }
   ],
   "source": [
    "import tensorflow as tf\n",
    "import keras\n",
    "import numpy as np\n",
    "import keras.backend as K\n",
    "x = [23.3, -45.2, 2.10, -0.01, 5.50]\n",
    "# y = [-10.2, 23.3, 0.01, -20.2, 1.23]\n",
    "y = [23.3, -45.2, 2.19, -0.11, 5.50]\n",
    "x1 = np.array([23.3, -45.2, 2.10, -0.01, 5.50])\n",
    "# y1 = np.array([-10.2, 23.3, 0.01, -20.2, 1.23])\n",
    "y1 = np.array([23.3, -45.2, 2.19, -0.11, 5.50])\n",
    "roznica = x1 - y1\n",
    "print(roznica)\n",
    "x_norm = K.l2_normalize(x)\n",
    "y_norm = K.l2_normalize(y)\n",
    "y_norm_roznica = K.l2_normalize(roznica)\n",
    "print(x_norm)\n",
    "print(y_norm)\n",
    "print(x_norm - y_norm)\n",
    "print(y_norm_roznica)\n",
    "\n",
    "\n",
    "# vector_norm =  keras.layers.Lambda(lambda x: tf.math.l2_normalalize(x, axis=1))(x)\n",
    "# print(vector_norm)"
   ]
  },
  {
   "cell_type": "code",
   "outputs": [
    {
     "name": "stdout",
     "output_type": "stream",
     "text": [
      "Suma1: 6.9005646e-06\n",
      "Suma2: 1.0\n"
     ]
    }
   ],
   "source": [
    "suma_1= np.sum((x_norm-y_norm)**2)\n",
    "suma_2 = np.sum(y_norm_roznica**2)\n",
    "print(\"Suma1:\", suma_1)\n",
    "print(\"Suma2:\", suma_2)"
   ],
   "metadata": {
    "collapsed": false,
    "ExecuteTime": {
     "end_time": "2024-05-06T18:31:22.956352Z",
     "start_time": "2024-05-06T18:31:22.951156Z"
    }
   },
   "id": "f5331d9a2aa04124",
   "execution_count": 14
  },
  {
   "cell_type": "code",
   "outputs": [],
   "source": [],
   "metadata": {
    "collapsed": false
   },
   "id": "ea87d975ff524aeb"
  }
 ],
 "metadata": {
  "kernelspec": {
   "display_name": "Python 3 (ipykernel)",
   "language": "python",
   "name": "python3"
  },
  "language_info": {
   "codemirror_mode": {
    "name": "ipython",
    "version": 3
   },
   "file_extension": ".py",
   "mimetype": "text/x-python",
   "name": "python",
   "nbconvert_exporter": "python",
   "pygments_lexer": "ipython3",
   "version": "3.11.5"
  }
 },
 "nbformat": 4,
 "nbformat_minor": 5
}
