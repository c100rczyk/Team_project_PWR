{
 "cells": [
  {
   "cell_type": "markdown",
   "id": "fcf866cc00cb6f58",
   "metadata": {
    "collapsed": false,
    "jupyter": {
     "outputs_hidden": false
    }
   },
   "source": [
    "# Contrastive and Triplet loss in one program.\n",
    "IN ORDER OF NEED:\n",
    "+ We can choose which variant we want - Contrastive or Triplet. \n",
    "+ We want also, to compare performance of this two variants  (for now, based on the old metrics (the result will be inaccurate)\n",
    "+ New special constructed metrics that is useful in our case\n",
    "+ Module helping in creating models. The unchanging part and the variable part\n",
    "+ Function that checking and printing wrong predictions of the model\n",
    "+ TODO comments\n",
    "+ Zaimplementowanie sposobu do wyświetlania podsumowania budowy modelu triplet loss\n",
    "+ Poszukanie innych zbiorów danych\n",
    "+ Dowiedzieć się jak zapisywać modele do pliku\n",
    "+ <> IF something important put here </>"
   ]
  },
  {
   "cell_type": "code",
   "execution_count": null,
   "id": "e09750f04885b59f",
   "metadata": {
    "collapsed": false,
    "jupyter": {
     "outputs_hidden": false
    }
   },
   "outputs": [],
   "source": [
    "import os\n",
    "import random\n",
    "import keras\n",
    "import numpy as np\n",
    "import tensorflow as tf\n",
    "import matplotlib.pyplot as plt\n",
    "from CL_utilities.ContrastiveGenerator import ContrastiveGenerator\n",
    "from distance.CL_Euclidean_Distance import CL_Euclidean_Distance\n",
    "from CL_utilities.CL_mapping import Generate_pack_of_images\n",
    "from CL_utilities import CL_visualization\n",
    "from CL_utilities import CL_loss\n",
    "import matplotlib.image as mpimg\n",
    "from utilities.triplet_generator import TripletGenerator\n",
    "from utilities.mapping import MapFunction \n",
    "from utilities import visualization\n",
    "from keras import Model\n",
    "from keras import optimizers\n",
    "from keras import metrics\n",
    "from model.SiameseModel import SiameseModel\n",
    "from distance.DistanceLayer import DistanceLayer"
   ]
  },
  {
   "cell_type": "code",
   "execution_count": 1,
   "id": "14bfbc491149e2fe",
   "metadata": {
    "ExecuteTime": {
     "end_time": "2024-04-09T12:45:58.612186Z",
     "start_time": "2024-04-09T12:45:58.603467Z"
    },
    "collapsed": false,
    "jupyter": {
     "outputs_hidden": false
    }
   },
   "outputs": [],
   "source": [
    "#HYPERPARAMETERS\n",
    "image_size = (100, 100)\n",
    "epochs = 10\n",
    "batch_size = 16\n",
    "margin = 0.5 # margin for triplet loss\n",
    "max_triplets = 300\n",
    "validation_triplets = 40"
   ]
  },
  {
   "cell_type": "code",
   "execution_count": null,
   "id": "6cb5e524e7067add",
   "metadata": {
    "collapsed": false,
    "jupyter": {
     "outputs_hidden": false
    }
   },
   "outputs": [],
   "source": []
  }
 ],
 "metadata": {
  "kernelspec": {
   "display_name": "Python 3 (ipykernel)",
   "language": "python",
   "name": "python3"
  },
  "language_info": {
   "codemirror_mode": {
    "name": "ipython",
    "version": 3
   },
   "file_extension": ".py",
   "mimetype": "text/x-python",
   "name": "python",
   "nbconvert_exporter": "python",
   "pygments_lexer": "ipython3",
   "version": "3.11.5"
  }
 },
 "nbformat": 4,
 "nbformat_minor": 5
}
