{
 "cells": [
  {
   "cell_type": "markdown",
   "id": "fcf866cc00cb6f58",
   "metadata": {
    "collapsed": false,
    "jupyter": {
     "outputs_hidden": false
    }
   },
   "source": [
    "# Contrastive and Triplet loss in one program.\n",
    "IN ORDER OF NEED:\n",
    "+ We can choose which variant we want - Contrastive or Triplet. \n",
    "+ We want also, to compare performance of this two variants  (for now, based on the old metrics (the result will be inaccurate)\n",
    "+ New special constructed metrics that is useful in our case\n",
    "+ Module helping in creating models. The unchanging part and the variable part\n",
    "+ Function that checking and printing wrong predictions of the model\n",
    "+ TODO comments\n",
    "+ <> IF something important put here </>"
   ]
  },
  {
   "cell_type": "code",
   "execution_count": null,
   "id": "e09750f04885b59f",
   "metadata": {
    "collapsed": false,
    "jupyter": {
     "outputs_hidden": false
    }
   },
   "outputs": [],
   "source": [
    "# code"
   ]
  }
 ],
 "metadata": {
  "kernelspec": {
   "display_name": "Python 3 (ipykernel)",
   "language": "python",
   "name": "python3"
  },
  "language_info": {
   "codemirror_mode": {
    "name": "ipython",
    "version": 3
   },
   "file_extension": ".py",
   "mimetype": "text/x-python",
   "name": "python",
   "nbconvert_exporter": "python",
   "pygments_lexer": "ipython3",
   "version": "3.11.5"
  }
 },
 "nbformat": 4,
 "nbformat_minor": 5
}
