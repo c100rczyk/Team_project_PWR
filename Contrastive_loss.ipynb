{
 "cells": [
  {
   "cell_type": "code",
   "execution_count": 1,
   "id": "initial_id",
   "metadata": {
    "ExecuteTime": {
     "end_time": "2024-03-25T09:41:30.692015Z",
     "start_time": "2024-03-25T09:41:30.688644Z"
    }
   },
   "outputs": [
    {
     "name": "stdout",
     "output_type": "stream",
     "text": [
      "hello\n"
     ]
    },
    {
     "name": "stderr",
     "output_type": "stream",
     "text": [
      "2024-03-26 18:20:27.512946: I external/local_tsl/tsl/cuda/cudart_stub.cc:32] Could not find cuda drivers on your machine, GPU will not be used.\n",
      "2024-03-26 18:20:27.515763: I external/local_tsl/tsl/cuda/cudart_stub.cc:32] Could not find cuda drivers on your machine, GPU will not be used.\n",
      "2024-03-26 18:20:27.556479: I tensorflow/core/platform/cpu_feature_guard.cc:210] This TensorFlow binary is optimized to use available CPU instructions in performance-critical operations.\n",
      "To enable the following instructions: AVX2 FMA, in other operations, rebuild TensorFlow with the appropriate compiler flags.\n",
      "2024-03-26 18:20:28.284686: W tensorflow/compiler/tf2tensorrt/utils/py_utils.cc:38] TF-TRT Warning: Could not find TensorRT\n"
     ]
    }
   ],
   "source": [
    "import os\n",
    "import random\n",
    "import numpy as np\n",
    "print(\"hello\")\n",
    "import csv\n",
    "import tensorflow as tf\n",
    "import matplotlib.pyplot as plt"
   ]
  },
  {
   "cell_type": "code",
   "execution_count": 2,
   "id": "13f0800c-bae7-4ca3-8f80-e9be102d8e60",
   "metadata": {
    "ExecuteTime": {
     "end_time": "2024-03-25T09:41:31.926558Z",
     "start_time": "2024-03-25T09:41:31.923752Z"
    }
   },
   "outputs": [],
   "source": [
    "#HYPERPARAMETERS\n",
    "\n",
    "epochs = 10\n",
    "batch_size = 8\n",
    "margin = 1 # margin for contrastive loss"
   ]
  },
  {
   "cell_type": "markdown",
   "id": "94c2cf5a-460e-4869-a6a4-a8bfe2866fe7",
   "metadata": {},
   "source": [
    "# Creating paths to appropriate images"
   ]
  },
  {
   "cell_type": "code",
   "execution_count": 3,
   "id": "ad71d2c8f393b273",
   "metadata": {
    "ExecuteTime": {
     "end_time": "2024-03-25T09:41:34.061480Z",
     "start_time": "2024-03-25T09:41:34.055967Z"
    },
    "collapsed": false,
    "jupyter": {
     "outputs_hidden": false
    }
   },
   "outputs": [],
   "source": [
    "class ContrastiveGenerator:\n",
    "    def __init__(self, datasetPath, number_of_pairs):       #number_of_pairs : number of iterations in loop next_get_item()\n",
    "        # empty list that will contain the subdirectory names of products\n",
    "        # of the dataset directory with more than one image in it\n",
    "        self.types_of_products = list()\n",
    "        self.number_of_pairs = number_of_pairs\n",
    "\n",
    "        #iterate over subdirectories in the main directory:\n",
    "        for folderName in os.listdir(datasetPath):\n",
    "            if os.path.isdir(os.path.join(datasetPath, folderName)):\n",
    "                for filename in os.listdir(os.path.join(datasetPath, folderName)):\n",
    "                    # jeśli są zdjęcia to je pobierz\n",
    "                    if filename.lower().endswith(\".png\"):\n",
    "                        absoluteFolderName = os.path.join(datasetPath, folderName)\n",
    "                        self.types_of_products.append(absoluteFolderName) \n",
    "                    #w przeciwnym wypadku idź do podfolderu\n",
    "                    else:\n",
    "                        absolutFolderName = os.path.join(datasetPath, folderName, filename)\n",
    "                        self.types_of_products.append(absoluteFolderName)\n",
    "            # # lub to co poniżej : jeśli jest folder bez podfolderów\n",
    "            # absoluteFolderName = os.path.join(datasetPath, folderName) #datasetPath + \"/\" + folderName\n",
    "            # # get the number of images in the subdirectory\n",
    "            # numImages = len(os.listdir(absoluteFolderName))\n",
    "            # if numImages > 1:\n",
    "            #     self.types_of_products.append(absoluteFolderName)\n",
    "\n",
    "        # create a dictionary of people name to their image names\n",
    "        self.allProducts = self.generate_all_products_dict()\n",
    "\n",
    "\n",
    "    # Buildings paths to specific images\n",
    "    def generate_all_products_dict(self):\n",
    "        # all_products = dict()\n",
    "        # for product in self.types_of_products:\n",
    "        #     if os.path.isdir(product):  # Sprawdź, czy to katalog\n",
    "        #         image_names = os.listdir(product)\n",
    "        #         product_photos = [os.path.join(product, imageName) for imageName in image_names]\n",
    "        #         all_products[product] = product_photos\n",
    "        # return all_products\n",
    "        \n",
    "        # create an empty dictionary that will be populated with\n",
    "        # directory names as keys and image names as values\n",
    "        all_products = dict()\n",
    "        for product in self.types_of_products:\n",
    "            image_names = os.listdir(product)\n",
    "            # build the image paths and populate the dictionary\n",
    "            productsPhotos = [os.path.join(product, imageName) for imageName in image_names]\n",
    "            all_products[product] = productsPhotos\n",
    "        print(len(all_products))\n",
    "        #print(all_products)\n",
    "        return all_products\n",
    "\n",
    "    def get_next_element(self):\n",
    "        for i in range(self.number_of_pairs):\n",
    "            anchor = random.choice(self.types_of_products)\n",
    "\n",
    "            # copy the list of products\n",
    "            temporaryImages = self.types_of_products.copy()\n",
    "            temporaryImages.remove(anchor)\n",
    "\n",
    "            # random product from a list of products without anchor\n",
    "            negativeProduct = random.choice(temporaryImages)\n",
    "\n",
    "            (anchorProduct, positiveProduct) = np.random.choice(\n",
    "                a=self.allProducts[anchor],\n",
    "                size=2,\n",
    "                replace=False\n",
    "            )\n",
    "            # Image from the negative folder\n",
    "            negativeProduct = random.choice(self.allProducts[negativeProduct])\n",
    "\n",
    "\n",
    "            yield (anchorProduct, positiveProduct, 0.0)\n",
    "            yield (anchorProduct, negativeProduct, 1.0)"
   ]
  },
  {
   "cell_type": "markdown",
   "id": "fd9e1c33-00e4-4237-85cd-e24f9ac18b9d",
   "metadata": {},
   "source": [
    "# Create object for creating dataset"
   ]
  },
  {
   "cell_type": "code",
   "execution_count": 4,
   "id": "ebf19d6c326282",
   "metadata": {
    "ExecuteTime": {
     "end_time": "2024-03-25T09:41:37.294646Z",
     "start_time": "2024-03-25T09:41:37.291031Z"
    },
    "collapsed": false,
    "jupyter": {
     "outputs_hidden": false
    }
   },
   "outputs": [
    {
     "name": "stdout",
     "output_type": "stream",
     "text": [
      "12\n"
     ]
    }
   ],
   "source": [
    "path = r\"/home/c100rczyk/VSCode/InsERT/Fruits\"\n",
    "number_of_samples = 32\n",
    "generator = ContrastiveGenerator(path, number_of_samples)"
   ]
  },
  {
   "cell_type": "markdown",
   "id": "8134a469-c1a2-4541-8ac2-575fdd279db2",
   "metadata": {},
   "source": [
    "# Generator for creating dataset"
   ]
  },
  {
   "cell_type": "code",
   "execution_count": 6,
   "id": "4d36c8d87fae2d64",
   "metadata": {
    "ExecuteTime": {
     "end_time": "2024-03-25T09:41:42.634889Z",
     "start_time": "2024-03-25T09:41:42.615585Z"
    },
    "collapsed": false,
    "jupyter": {
     "outputs_hidden": false
    }
   },
   "outputs": [],
   "source": [
    "dataset = tf.data.Dataset.from_generator( generator.get_next_element,\n",
    "                                          output_signature=(tf.TensorSpec(shape=(), dtype=tf.string),\n",
    "                                                            tf.TensorSpec(shape=(), dtype=tf.string),\n",
    "                                                            tf.TensorSpec(shape=(), dtype=tf.float32)))"
   ]
  },
  {
   "cell_type": "code",
   "execution_count": 7,
   "id": "9755d40b-db2f-4525-a292-1f41346a40b0",
   "metadata": {
    "ExecuteTime": {
     "end_time": "2024-03-25T09:41:43.511426Z",
     "start_time": "2024-03-25T09:41:43.506967Z"
    }
   },
   "outputs": [
    {
     "name": "stdout",
     "output_type": "stream",
     "text": [
      "<_FlatMapDataset element_spec=(TensorSpec(shape=(), dtype=tf.string, name=None), TensorSpec(shape=(), dtype=tf.string, name=None), TensorSpec(shape=(), dtype=tf.float32, name=None))>\n"
     ]
    }
   ],
   "source": [
    "print(dataset)"
   ]
  },
  {
   "cell_type": "markdown",
   "id": "6067af6d-38b8-4958-970b-a7e4671e352e",
   "metadata": {},
   "source": [
    "# Creating dataset\n"
   ]
  },
  {
   "cell_type": "code",
   "execution_count": 8,
   "id": "bf1a6c40-e312-4f3d-8d4a-f1db83a2277e",
   "metadata": {
    "ExecuteTime": {
     "end_time": "2024-03-25T10:03:34.313964Z",
     "start_time": "2024-03-25T10:03:34.308076Z"
    },
    "scrolled": true
   },
   "outputs": [],
   "source": [
    "IMAGE_SIZE = (258, 320)\n",
    "\n",
    "\n",
    "\n",
    "def decode_and_resize(img_path):\n",
    "    img = tf.io.read_file(img_path)\n",
    "    img = tf.image.decode_png(img, channels=3)\n",
    "    img = tf.image.resize(img, IMAGE_SIZE)\n",
    "    img = tf.image.convert_image_dtype(img, tf.float32)\n",
    "    return img\n",
    "\n",
    "def decode_resize_wrapper(image_path1, image_path2,value):\n",
    "    # return tf.py_function(decode_and_resize, [image_path], tf.float32)\n",
    "    img1 = decode_and_resize(image_path1)\n",
    "    img2 = decode_and_resize(image_path2)\n",
    "    return ((img1, img2), value)\n",
    "\n",
    "def generate_new_pack_of_images():\n",
    "    \n",
    "    # Mapowanie funkcji na oba obrazy\n",
    "    img_pack = dataset.map(lambda image_path1, image_path2, value: (decode_resize_wrapper(image_path1,image_path2,value)) )\n",
    "    img_pack = img_pack.batch(batch_size)\n",
    "    \n",
    "    #print(list(img_pack))\n",
    "    return img_pack\n",
    "\n",
    "    # list_of_products = []\n",
    "    \n",
    "    # for (img1, img2), value in img_pack:\n",
    "    #     list_of_products.append( (img1, img2,value  ))    #value.numpy()\n",
    "        \n",
    "    # return list_of_products\n",
    "\n",
    "\n"
   ]
  },
  {
   "cell_type": "markdown",
   "id": "8b891194-3c72-407b-b488-d8658d75be8e",
   "metadata": {},
   "source": [
    "# Create new pack of images and labels"
   ]
  },
  {
   "cell_type": "code",
   "execution_count": 9,
   "id": "76ed5a2c-9744-4625-b915-8e376e47f086",
   "metadata": {
    "ExecuteTime": {
     "end_time": "2024-03-25T10:07:48.731238Z",
     "start_time": "2024-03-25T10:07:48.682641Z"
    }
   },
   "outputs": [
    {
     "name": "stdout",
     "output_type": "stream",
     "text": [
      "<_BatchDataset element_spec=((TensorSpec(shape=(None, 258, 320, 3), dtype=tf.float32, name=None), TensorSpec(shape=(None, 258, 320, 3), dtype=tf.float32, name=None)), TensorSpec(shape=(None,), dtype=tf.float32, name=None))>\n"
     ]
    }
   ],
   "source": [
    "touple_of_products = generate_new_pack_of_images()\n",
    "\n",
    "print(touple_of_products)"
   ]
  },
  {
   "cell_type": "markdown",
   "id": "b59e9bf6-ac8d-44c0-b35b-8c008a336c50",
   "metadata": {},
   "source": [
    "## show and check if everything is ok ( how to get image from BatchDataset?? )"
   ]
  },
  {
   "cell_type": "code",
   "execution_count": 10,
   "id": "27d966a3-87ad-4758-a081-bd10449b0489",
   "metadata": {
    "ExecuteTime": {
     "end_time": "2024-03-25T10:03:37.496993Z",
     "start_time": "2024-03-25T10:03:37.219225Z"
    }
   },
   "outputs": [
    {
     "name": "stderr",
     "output_type": "stream",
     "text": [
      "Clipping input data to the valid range for imshow with RGB data ([0..1] for floats or [0..255] for integers).\n",
      "Clipping input data to the valid range for imshow with RGB data ([0..1] for floats or [0..255] for integers).\n"
     ]
    },
    {
     "data": {
      "image/png": "[encoded data removed]",
      "text/plain": [
       "<Figure size 1000x500 with 2 Axes>"
      ]
     },
     "metadata": {},
     "output_type": "display_data"
    },
    {
     "name": "stderr",
     "output_type": "stream",
     "text": [
      "Clipping input data to the valid range for imshow with RGB data ([0..1] for floats or [0..255] for integers).\n",
      "Clipping input data to the valid range for imshow with RGB data ([0..1] for floats or [0..255] for integers).\n"
     ]
    },
    {
     "name": "stdout",
     "output_type": "stream",
     "text": [
      "Etykieta: tf.Tensor([0. 1. 0. 1. 0. 1. 0. 1.], shape=(8,), dtype=float32)\n"
     ]
    },
    {
     "data": {
      "image/png": "[encoded data removed]",
      "text/plain": [
       "<Figure size 1000x500 with 2 Axes>"
      ]
     },
     "metadata": {},
     "output_type": "display_data"
    },
    {
     "name": "stdout",
     "output_type": "stream",
     "text": [
      "Etykieta: tf.Tensor([0. 1. 0. 1. 0. 1. 0. 1.], shape=(8,), dtype=float32)\n"
     ]
    },
    {
     "name": "stderr",
     "output_type": "stream",
     "text": [
      "Clipping input data to the valid range for imshow with RGB data ([0..1] for floats or [0..255] for integers).\n",
      "Clipping input data to the valid range for imshow with RGB data ([0..1] for floats or [0..255] for integers).\n"
     ]
    },
    {
     "data": {
      "image/png": "[encoded data removed]",
      "text/plain": [
       "<Figure size 1000x500 with 2 Axes>"
      ]
     },
     "metadata": {},
     "output_type": "display_data"
    },
    {
     "name": "stderr",
     "output_type": "stream",
     "text": [
      "Clipping input data to the valid range for imshow with RGB data ([0..1] for floats or [0..255] for integers).\n"
     ]
    },
    {
     "name": "stdout",
     "output_type": "stream",
     "text": [
      "Etykieta: tf.Tensor([0. 1. 0. 1. 0. 1. 0. 1.], shape=(8,), dtype=float32)\n"
     ]
    },
    {
     "name": "stderr",
     "output_type": "stream",
     "text": [
      "Clipping input data to the valid range for imshow with RGB data ([0..1] for floats or [0..255] for integers).\n"
     ]
    },
    {
     "data": {
      "image/png": "[encoded data removed]",
      "text/plain": [
       "<Figure size 1000x500 with 2 Axes>"
      ]
     },
     "metadata": {},
     "output_type": "display_data"
    },
    {
     "name": "stderr",
     "output_type": "stream",
     "text": [
      "Clipping input data to the valid range for imshow with RGB data ([0..1] for floats or [0..255] for integers).\n"
     ]
    },
    {
     "name": "stdout",
     "output_type": "stream",
     "text": [
      "Etykieta: tf.Tensor([0. 1. 0. 1. 0. 1. 0. 1.], shape=(8,), dtype=float32)\n"
     ]
    },
    {
     "name": "stderr",
     "output_type": "stream",
     "text": [
      "Clipping input data to the valid range for imshow with RGB data ([0..1] for floats or [0..255] for integers).\n"
     ]
    },
    {
     "data": {
      "image/png": "[encoded data removed]",
      "text/plain": [
       "<Figure size 1000x500 with 2 Axes>"
      ]
     },
     "metadata": {},
     "output_type": "display_data"
    },
    {
     "name": "stderr",
     "output_type": "stream",
     "text": [
      "Clipping input data to the valid range for imshow with RGB data ([0..1] for floats or [0..255] for integers).\n",
      "Clipping input data to the valid range for imshow with RGB data ([0..1] for floats or [0..255] for integers).\n"
     ]
    },
    {
     "name": "stdout",
     "output_type": "stream",
     "text": [
      "Etykieta: tf.Tensor([0. 1. 0. 1. 0. 1. 0. 1.], shape=(8,), dtype=float32)\n"
     ]
    },
    {
     "data": {
      "image/png": "[encoded data removed]",
      "text/plain": [
       "<Figure size 1000x500 with 2 Axes>"
      ]
     },
     "metadata": {},
     "output_type": "display_data"
    },
    {
     "name": "stderr",
     "output_type": "stream",
     "text": [
      "Clipping input data to the valid range for imshow with RGB data ([0..1] for floats or [0..255] for integers).\n",
      "Clipping input data to the valid range for imshow with RGB data ([0..1] for floats or [0..255] for integers).\n"
     ]
    },
    {
     "name": "stdout",
     "output_type": "stream",
     "text": [
      "Etykieta: tf.Tensor([0. 1. 0. 1. 0. 1. 0. 1.], shape=(8,), dtype=float32)\n"
     ]
    },
    {
     "data": {
      "image/png": "[encoded data removed]",
      "text/plain": [
       "<Figure size 1000x500 with 2 Axes>"
      ]
     },
     "metadata": {},
     "output_type": "display_data"
    },
    {
     "name": "stderr",
     "output_type": "stream",
     "text": [
      "Clipping input data to the valid range for imshow with RGB data ([0..1] for floats or [0..255] for integers).\n",
      "Clipping input data to the valid range for imshow with RGB data ([0..1] for floats or [0..255] for integers).\n"
     ]
    },
    {
     "name": "stdout",
     "output_type": "stream",
     "text": [
      "Etykieta: tf.Tensor([0. 1. 0. 1. 0. 1. 0. 1.], shape=(8,), dtype=float32)\n"
     ]
    },
    {
     "data": {
      "image/png": "[encoded data removed]",
      "text/plain": [
       "<Figure size 1000x500 with 2 Axes>"
      ]
     },
     "metadata": {},
     "output_type": "display_data"
    },
    {
     "name": "stdout",
     "output_type": "stream",
     "text": [
      "Etykieta: tf.Tensor([0. 1. 0. 1. 0. 1. 0. 1.], shape=(8,), dtype=float32)\n"
     ]
    },
    {
     "name": "stderr",
     "output_type": "stream",
     "text": [
      "2024-03-26 18:22:24.830032: W tensorflow/core/framework/local_rendezvous.cc:404] Local rendezvous is aborting with status: OUT_OF_RANGE: End of sequence\n"
     ]
    }
   ],
   "source": [
    "# wyświetlenie obrazów:\n",
    "import numpy\n",
    "for img1, label in touple_of_products:\n",
    "\n",
    "    plt.figure(figsize=(10, 5))\n",
    "    \n",
    "    # Obraz 1\n",
    "    plt.subplot(1, 2, 1)\n",
    "    plt.imshow(img1[0][0])\n",
    "    plt.title('Image 1')\n",
    "    # Obraz 2\n",
    "    plt.subplot(1, 2, 2)\n",
    "    plt.imshow(img1[0][1])\n",
    "    plt.title('Image 2')\n",
    "    plt.show()\n",
    "    print(\"Etykieta:\", label)"
   ]
  },
  {
   "cell_type": "code",
   "execution_count": 11,
   "id": "74321b95-b0cb-485f-b0d9-6babc6f67c5c",
   "metadata": {
    "ExecuteTime": {
     "end_time": "2024-03-25T09:41:53.771890Z",
     "start_time": "2024-03-25T09:41:53.478161Z"
    }
   },
   "outputs": [],
   "source": [
    "# img1, img2, label = list_of_products[1]\n",
    "\n",
    "# # Wyświetlenie obrazów\n",
    "# plt.figure(figsize=(10, 5))\n",
    "# # Obraz 1\n",
    "# plt.subplot(1, 2, 1)\n",
    "# plt.imshow(img1)\n",
    "# plt.title('Image 1')\n",
    "# # Obraz 2\n",
    "# plt.subplot(1, 2, 2)\n",
    "# plt.imshow(img2)\n",
    "# plt.title('Image 2')\n",
    "\n",
    "# plt.show()\n",
    "# print(\"Etykieta:\", label)"
   ]
  },
  {
   "cell_type": "markdown",
   "id": "a4160989-99c0-4c50-8115-33e65650a923",
   "metadata": {},
   "source": [
    "# Model for learn products distinguish"
   ]
  },
  {
   "cell_type": "code",
   "execution_count": 12,
   "id": "59ee102b-f4ca-4d61-988c-70f8b01e2d45",
   "metadata": {
    "ExecuteTime": {
     "end_time": "2024-03-25T09:42:00.849578Z",
     "start_time": "2024-03-25T09:42:00.773861Z"
    }
   },
   "outputs": [],
   "source": [
    "import keras\n",
    "\n",
    "def euclidean_distance(vects):\n",
    "    \"\"\"\n",
    "    Znalezienie odległości euklidesowej pomiędzy dwoma wektorami:\n",
    "\n",
    "    Arguments:\n",
    "        vects: Lista zawierające dwa tensory tej samej długości\n",
    "\n",
    "    Returns:\n",
    "        Tensor containing euclidean distance pomiędzy podanymi wektorami\n",
    "    \"\"\"\n",
    "    x, y = vects\n",
    "\n",
    "    sum_square = tf.reduce_sum(tf.square(x-y), axis=1, keepdims=True)   \n",
    "    return tf.sqrt(tf.maximum(sum_square, keras.backend.epsilon()))\n",
    "\n",
    "input = keras.layers.Input((258,320,3))\n",
    "x = keras.layers.BatchNormalization()(input)\n",
    "x = keras.layers.Conv2D(16, (5,5), activation=\"tanh\")(x)  # ilość elementów filtra, rozmiar filtra\n",
    "x = keras.layers.AveragePooling2D(pool_size=(2,2))(x)\n",
    "x = keras.layers.Conv2D(32, (5,5), activation=\"tanh\")(x)\n",
    "x = keras.layers.AveragePooling2D(pool_size=(2,2))(x)\n",
    "x = keras.layers.Flatten()(x)\n",
    "\n",
    "x = keras.layers.BatchNormalization()(x)\n",
    "x = keras.layers.Dense(10, activation=\"tanh\")(x)\n",
    "embedding_network = keras.Model(input, x)   # tworzę instancję modelu. Model nazywam embedding network\n",
    "                                            # używam tego do dalszego definiowania modelu\n",
    "\n",
    "input_1 = keras.layers.Input((258,320,3))\n",
    "input_2 = keras.layers.Input((258,320,3))\n",
    "\n",
    "tower_1 = embedding_network(input_1)\n",
    "tower_2 = embedding_network(input_2)\n",
    "\n",
    "merge_layer = keras.layers.Lambda(euclidean_distance, output_shape=(1,))([tower_1, tower_2])\n",
    "\n",
    "normal_layer = keras.layers.BatchNormalization()(merge_layer)\n",
    "output_layer = keras.layers.Dense(1, activation=\"sigmoid\")(normal_layer)\n",
    "\n",
    "siamese = keras.Model(inputs=[input_1, input_2], outputs=output_layer)"
   ]
  },
  {
   "cell_type": "markdown",
   "id": "2e38e4e6-f897-4069-bd5c-18dbe826638e",
   "metadata": {},
   "source": [
    "# Definition of loss function"
   ]
  },
  {
   "cell_type": "code",
   "execution_count": 13,
   "id": "e0ffe7af-3376-43d9-94e8-14fe00a85afb",
   "metadata": {
    "ExecuteTime": {
     "end_time": "2024-03-25T09:42:03.414557Z",
     "start_time": "2024-03-25T09:42:03.410724Z"
    }
   },
   "outputs": [],
   "source": [
    "def loss(margin=1):\n",
    "    \"\"\"\n",
    "    Arguments: \n",
    "        margin: Integer, defines the baseline for distance for which pairs\n",
    "        shoud be classified as dissimilar \"1\"\n",
    "    Returns:\n",
    "        tensor with contrastive loss as floating point value\n",
    "    \"\"\"\n",
    "    # 0-same ,  1-different\n",
    "    \n",
    "    #contrastive_loss = (1-y_true)*\n",
    "\n",
    "    def contrastive_loss(y_true, y_pred):\n",
    "        \"\"\"Calculate the contrastive loss\n",
    "        Arguments:\n",
    "            y_true: List of labels, each label is of type \"float32\"\n",
    "            y_pred: List of predictions\n",
    "            y_pred to przewidywane odległości między parami danych, które model stara się nauczyć\n",
    "        Returns:\n",
    "            A tensor containing contrastive loss value (folat)\n",
    "        \"\"\"\n",
    "        square_pred = tf.square(y_pred)\n",
    "        margin_square = tf.square(tf.maximum(margin - (y_pred), 0))\n",
    "        return tf.reduce_mean((1 - y_true) * square_pred + (y_true) * margin_square)\n",
    "    return contrastive_loss\n",
    "    "
   ]
  },
  {
   "cell_type": "markdown",
   "id": "4f28add7-4aaa-4476-9467-6f33210ca609",
   "metadata": {},
   "source": [
    "## Compile model with contrastive loss\n"
   ]
  },
  {
   "cell_type": "code",
   "execution_count": 14,
   "id": "99467c1b-1b9e-498e-8c99-55e11d6e699e",
   "metadata": {
    "ExecuteTime": {
     "end_time": "2024-03-25T09:42:05.488553Z",
     "start_time": "2024-03-25T09:42:05.453777Z"
    }
   },
   "outputs": [
    {
     "data": {
      "text/html": [
       "<pre style=\"white-space:pre;overflow-x:auto;line-height:normal;font-family:Menlo,'DejaVu Sans Mono',consolas,'Courier New',monospace\"><span style=\"font-weight: bold\">Model: \"functional_3\"</span>\n",
       "</pre>\n"
      ],
      "text/plain": [
       "\u001b[1mModel: \"functional_3\"\u001b[0m\n"
      ]
     },
     "metadata": {},
     "output_type": "display_data"
    },
    {
     "data": {
      "text/html": [
       "<pre style=\"white-space:pre;overflow-x:auto;line-height:normal;font-family:Menlo,'DejaVu Sans Mono',consolas,'Courier New',monospace\">┏━━━━━━━━━━━━━━━━━━━━━┳━━━━━━━━━━━━━━━━━━━┳━━━━━━━━━━━━┳━━━━━━━━━━━━━━━━━━━┓\n",
       "┃<span style=\"font-weight: bold\"> Layer (type)        </span>┃<span style=\"font-weight: bold\"> Output Shape      </span>┃<span style=\"font-weight: bold\">    Param # </span>┃<span style=\"font-weight: bold\"> Connected to      </span>┃\n",
       "┡━━━━━━━━━━━━━━━━━━━━━╇━━━━━━━━━━━━━━━━━━━╇━━━━━━━━━━━━╇━━━━━━━━━━━━━━━━━━━┩\n",
       "│ input_layer_1       │ (<span style=\"color: #00d7ff; text-decoration-color: #00d7ff\">None</span>, <span style=\"color: #00af00; text-decoration-color: #00af00\">258</span>, <span style=\"color: #00af00; text-decoration-color: #00af00\">320</span>,  │          <span style=\"color: #00af00; text-decoration-color: #00af00\">0</span> │ -                 │\n",
       "│ (<span style=\"color: #0087ff; text-decoration-color: #0087ff\">InputLayer</span>)        │ <span style=\"color: #00af00; text-decoration-color: #00af00\">3</span>)                │            │                   │\n",
       "├─────────────────────┼───────────────────┼────────────┼───────────────────┤\n",
       "│ input_layer_2       │ (<span style=\"color: #00d7ff; text-decoration-color: #00d7ff\">None</span>, <span style=\"color: #00af00; text-decoration-color: #00af00\">258</span>, <span style=\"color: #00af00; text-decoration-color: #00af00\">320</span>,  │          <span style=\"color: #00af00; text-decoration-color: #00af00\">0</span> │ -                 │\n",
       "│ (<span style=\"color: #0087ff; text-decoration-color: #0087ff\">InputLayer</span>)        │ <span style=\"color: #00af00; text-decoration-color: #00af00\">3</span>)                │            │                   │\n",
       "├─────────────────────┼───────────────────┼────────────┼───────────────────┤\n",
       "│ functional_1        │ (<span style=\"color: #00d7ff; text-decoration-color: #00d7ff\">None</span>, <span style=\"color: #00af00; text-decoration-color: #00af00\">10</span>)        │  <span style=\"color: #00af00; text-decoration-color: #00af00\">2,118,326</span> │ input_layer_1[<span style=\"color: #00af00; text-decoration-color: #00af00\">0</span>]… │\n",
       "│ (<span style=\"color: #0087ff; text-decoration-color: #0087ff\">Functional</span>)        │                   │            │ input_layer_2[<span style=\"color: #00af00; text-decoration-color: #00af00\">0</span>]… │\n",
       "├─────────────────────┼───────────────────┼────────────┼───────────────────┤\n",
       "│ lambda (<span style=\"color: #0087ff; text-decoration-color: #0087ff\">Lambda</span>)     │ (<span style=\"color: #00d7ff; text-decoration-color: #00d7ff\">None</span>, <span style=\"color: #00af00; text-decoration-color: #00af00\">1</span>)         │          <span style=\"color: #00af00; text-decoration-color: #00af00\">0</span> │ functional_1[<span style=\"color: #00af00; text-decoration-color: #00af00\">0</span>][<span style=\"color: #00af00; text-decoration-color: #00af00\">…</span> │\n",
       "│                     │                   │            │ functional_1[<span style=\"color: #00af00; text-decoration-color: #00af00\">1</span>][<span style=\"color: #00af00; text-decoration-color: #00af00\">…</span> │\n",
       "├─────────────────────┼───────────────────┼────────────┼───────────────────┤\n",
       "│ batch_normalizatio… │ (<span style=\"color: #00d7ff; text-decoration-color: #00d7ff\">None</span>, <span style=\"color: #00af00; text-decoration-color: #00af00\">1</span>)         │          <span style=\"color: #00af00; text-decoration-color: #00af00\">4</span> │ lambda[<span style=\"color: #00af00; text-decoration-color: #00af00\">0</span>][<span style=\"color: #00af00; text-decoration-color: #00af00\">0</span>]      │\n",
       "│ (<span style=\"color: #0087ff; text-decoration-color: #0087ff\">BatchNormalizatio…</span> │                   │            │                   │\n",
       "├─────────────────────┼───────────────────┼────────────┼───────────────────┤\n",
       "│ dense_1 (<span style=\"color: #0087ff; text-decoration-color: #0087ff\">Dense</span>)     │ (<span style=\"color: #00d7ff; text-decoration-color: #00d7ff\">None</span>, <span style=\"color: #00af00; text-decoration-color: #00af00\">1</span>)         │          <span style=\"color: #00af00; text-decoration-color: #00af00\">2</span> │ batch_normalizat… │\n",
       "└─────────────────────┴───────────────────┴────────────┴───────────────────┘\n",
       "</pre>\n"
      ],
      "text/plain": [
       "┏━━━━━━━━━━━━━━━━━━━━━┳━━━━━━━━━━━━━━━━━━━┳━━━━━━━━━━━━┳━━━━━━━━━━━━━━━━━━━┓\n",
       "┃\u001b[1m \u001b[0m\u001b[1mLayer (type)       \u001b[0m\u001b[1m \u001b[0m┃\u001b[1m \u001b[0m\u001b[1mOutput Shape     \u001b[0m\u001b[1m \u001b[0m┃\u001b[1m \u001b[0m\u001b[1m   Param #\u001b[0m\u001b[1m \u001b[0m┃\u001b[1m \u001b[0m\u001b[1mConnected to     \u001b[0m\u001b[1m \u001b[0m┃\n",
       "┡━━━━━━━━━━━━━━━━━━━━━╇━━━━━━━━━━━━━━━━━━━╇━━━━━━━━━━━━╇━━━━━━━━━━━━━━━━━━━┩\n",
       "│ input_layer_1       │ (\u001b[38;5;45mNone\u001b[0m, \u001b[38;5;34m258\u001b[0m, \u001b[38;5;34m320\u001b[0m,  │          \u001b[38;5;34m0\u001b[0m │ -                 │\n",
       "│ (\u001b[38;5;33mInputLayer\u001b[0m)        │ \u001b[38;5;34m3\u001b[0m)                │            │                   │\n",
       "├─────────────────────┼───────────────────┼────────────┼───────────────────┤\n",
       "│ input_layer_2       │ (\u001b[38;5;45mNone\u001b[0m, \u001b[38;5;34m258\u001b[0m, \u001b[38;5;34m320\u001b[0m,  │          \u001b[38;5;34m0\u001b[0m │ -                 │\n",
       "│ (\u001b[38;5;33mInputLayer\u001b[0m)        │ \u001b[38;5;34m3\u001b[0m)                │            │                   │\n",
       "├─────────────────────┼───────────────────┼────────────┼───────────────────┤\n",
       "│ functional_1        │ (\u001b[38;5;45mNone\u001b[0m, \u001b[38;5;34m10\u001b[0m)        │  \u001b[38;5;34m2,118,326\u001b[0m │ input_layer_1[\u001b[38;5;34m0\u001b[0m]… │\n",
       "│ (\u001b[38;5;33mFunctional\u001b[0m)        │                   │            │ input_layer_2[\u001b[38;5;34m0\u001b[0m]… │\n",
       "├─────────────────────┼───────────────────┼────────────┼───────────────────┤\n",
       "│ lambda (\u001b[38;5;33mLambda\u001b[0m)     │ (\u001b[38;5;45mNone\u001b[0m, \u001b[38;5;34m1\u001b[0m)         │          \u001b[38;5;34m0\u001b[0m │ functional_1[\u001b[38;5;34m0\u001b[0m][\u001b[38;5;34m…\u001b[0m │\n",
       "│                     │                   │            │ functional_1[\u001b[38;5;34m1\u001b[0m][\u001b[38;5;34m…\u001b[0m │\n",
       "├─────────────────────┼───────────────────┼────────────┼───────────────────┤\n",
       "│ batch_normalizatio… │ (\u001b[38;5;45mNone\u001b[0m, \u001b[38;5;34m1\u001b[0m)         │          \u001b[38;5;34m4\u001b[0m │ lambda[\u001b[38;5;34m0\u001b[0m][\u001b[38;5;34m0\u001b[0m]      │\n",
       "│ (\u001b[38;5;33mBatchNormalizatio…\u001b[0m │                   │            │                   │\n",
       "├─────────────────────┼───────────────────┼────────────┼───────────────────┤\n",
       "│ dense_1 (\u001b[38;5;33mDense\u001b[0m)     │ (\u001b[38;5;45mNone\u001b[0m, \u001b[38;5;34m1\u001b[0m)         │          \u001b[38;5;34m2\u001b[0m │ batch_normalizat… │\n",
       "└─────────────────────┴───────────────────┴────────────┴───────────────────┘\n"
      ]
     },
     "metadata": {},
     "output_type": "display_data"
    },
    {
     "data": {
      "text/html": [
       "<pre style=\"white-space:pre;overflow-x:auto;line-height:normal;font-family:Menlo,'DejaVu Sans Mono',consolas,'Courier New',monospace\"><span style=\"font-weight: bold\"> Total params: </span><span style=\"color: #00af00; text-decoration-color: #00af00\">2,118,332</span> (8.08 MB)\n",
       "</pre>\n"
      ],
      "text/plain": [
       "\u001b[1m Total params: \u001b[0m\u001b[38;5;34m2,118,332\u001b[0m (8.08 MB)\n"
      ]
     },
     "metadata": {},
     "output_type": "display_data"
    },
    {
     "data": {
      "text/html": [
       "<pre style=\"white-space:pre;overflow-x:auto;line-height:normal;font-family:Menlo,'DejaVu Sans Mono',consolas,'Courier New',monospace\"><span style=\"font-weight: bold\"> Trainable params: </span><span style=\"color: #00af00; text-decoration-color: #00af00\">1,817,716</span> (6.93 MB)\n",
       "</pre>\n"
      ],
      "text/plain": [
       "\u001b[1m Trainable params: \u001b[0m\u001b[38;5;34m1,817,716\u001b[0m (6.93 MB)\n"
      ]
     },
     "metadata": {},
     "output_type": "display_data"
    },
    {
     "data": {
      "text/html": [
       "<pre style=\"white-space:pre;overflow-x:auto;line-height:normal;font-family:Menlo,'DejaVu Sans Mono',consolas,'Courier New',monospace\"><span style=\"font-weight: bold\"> Non-trainable params: </span><span style=\"color: #00af00; text-decoration-color: #00af00\">300,616</span> (1.15 MB)\n",
       "</pre>\n"
      ],
      "text/plain": [
       "\u001b[1m Non-trainable params: \u001b[0m\u001b[38;5;34m300,616\u001b[0m (1.15 MB)\n"
      ]
     },
     "metadata": {},
     "output_type": "display_data"
    }
   ],
   "source": [
    "# Kompilacja modelu z contrastive_loss\n",
    "\n",
    "siamese.compile(loss=loss(margin=margin), optimizer=\"RMSprop\", metrics=[\"accuracy\"])\n",
    "siamese.summary()"
   ]
  },
  {
   "cell_type": "code",
   "execution_count": 15,
   "id": "04d09bbf-f4ea-46b5-a260-7b5986318f94",
   "metadata": {
    "ExecuteTime": {
     "end_time": "2024-03-25T09:42:07.249211Z",
     "start_time": "2024-03-25T09:42:06.624870Z"
    },
    "scrolled": true
   },
   "outputs": [
    {
     "name": "stdout",
     "output_type": "stream",
     "text": [
      "Epoch 1/10\n",
      "\u001b[1m8/8\u001b[0m \u001b[32m━━━━━━━━━━━━━━━━━━━━\u001b[0m\u001b[37m\u001b[0m \u001b[1m5s\u001b[0m 395ms/step - accuracy: 0.6380 - loss: 0.2228\n",
      "Epoch 2/10\n"
     ]
    },
    {
     "name": "stderr",
     "output_type": "stream",
     "text": [
      "2024-03-26 18:22:32.495922: W tensorflow/core/framework/local_rendezvous.cc:404] Local rendezvous is aborting with status: OUT_OF_RANGE: End of sequence\n",
      "\t [[{{node IteratorGetNext}}]]\n",
      "/home/c100rczyk/anaconda3/lib/python3.11/contextlib.py:155: UserWarning: Your input ran out of data; interrupting training. Make sure that your dataset or generator can generate at least `steps_per_epoch * epochs` batches. You may need to use the `.repeat()` function when building your dataset.\n",
      "  self.gen.throw(typ, value, traceback)\n"
     ]
    },
    {
     "name": "stdout",
     "output_type": "stream",
     "text": [
      "\u001b[1m8/8\u001b[0m \u001b[32m━━━━━━━━━━━━━━━━━━━━\u001b[0m\u001b[37m\u001b[0m \u001b[1m3s\u001b[0m 395ms/step - accuracy: 0.6411 - loss: 0.2346\n",
      "Epoch 3/10\n"
     ]
    },
    {
     "name": "stderr",
     "output_type": "stream",
     "text": [
      "2024-03-26 18:22:35.712673: W tensorflow/core/framework/local_rendezvous.cc:404] Local rendezvous is aborting with status: OUT_OF_RANGE: End of sequence\n",
      "\t [[{{node IteratorGetNext}}]]\n"
     ]
    },
    {
     "name": "stdout",
     "output_type": "stream",
     "text": [
      "\u001b[1m8/8\u001b[0m \u001b[32m━━━━━━━━━━━━━━━━━━━━\u001b[0m\u001b[37m\u001b[0m \u001b[1m3s\u001b[0m 399ms/step - accuracy: 0.5038 - loss: 0.2679\n",
      "Epoch 4/10\n"
     ]
    },
    {
     "name": "stderr",
     "output_type": "stream",
     "text": [
      "2024-03-26 18:22:38.958722: W tensorflow/core/framework/local_rendezvous.cc:404] Local rendezvous is aborting with status: OUT_OF_RANGE: End of sequence\n",
      "\t [[{{node IteratorGetNext}}]]\n"
     ]
    },
    {
     "name": "stdout",
     "output_type": "stream",
     "text": [
      "\u001b[1m8/8\u001b[0m \u001b[32m━━━━━━━━━━━━━━━━━━━━\u001b[0m\u001b[37m\u001b[0m \u001b[1m3s\u001b[0m 388ms/step - accuracy: 0.7441 - loss: 0.2079\n",
      "Epoch 5/10\n"
     ]
    },
    {
     "name": "stderr",
     "output_type": "stream",
     "text": [
      "2024-03-26 18:22:42.121821: W tensorflow/core/framework/local_rendezvous.cc:404] Local rendezvous is aborting with status: OUT_OF_RANGE: End of sequence\n",
      "\t [[{{node IteratorGetNext}}]]\n"
     ]
    },
    {
     "name": "stdout",
     "output_type": "stream",
     "text": [
      "\u001b[1m8/8\u001b[0m \u001b[32m━━━━━━━━━━━━━━━━━━━━\u001b[0m\u001b[37m\u001b[0m \u001b[1m3s\u001b[0m 394ms/step - accuracy: 0.4037 - loss: 0.2909\n",
      "Epoch 6/10\n"
     ]
    },
    {
     "name": "stderr",
     "output_type": "stream",
     "text": [
      "2024-03-26 18:22:45.309563: W tensorflow/core/framework/local_rendezvous.cc:404] Local rendezvous is aborting with status: OUT_OF_RANGE: End of sequence\n",
      "\t [[{{node IteratorGetNext}}]]\n"
     ]
    },
    {
     "name": "stdout",
     "output_type": "stream",
     "text": [
      "\u001b[1m8/8\u001b[0m \u001b[32m━━━━━━━━━━━━━━━━━━━━\u001b[0m\u001b[37m\u001b[0m \u001b[1m3s\u001b[0m 383ms/step - accuracy: 0.5869 - loss: 0.2608\n",
      "Epoch 7/10\n"
     ]
    },
    {
     "name": "stderr",
     "output_type": "stream",
     "text": [
      "2024-03-26 18:22:48.406071: W tensorflow/core/framework/local_rendezvous.cc:404] Local rendezvous is aborting with status: OUT_OF_RANGE: End of sequence\n",
      "\t [[{{node IteratorGetNext}}]]\n"
     ]
    },
    {
     "name": "stdout",
     "output_type": "stream",
     "text": [
      "\u001b[1m8/8\u001b[0m \u001b[32m━━━━━━━━━━━━━━━━━━━━\u001b[0m\u001b[37m\u001b[0m \u001b[1m3s\u001b[0m 392ms/step - accuracy: 0.6237 - loss: 0.2228\n",
      "Epoch 8/10\n"
     ]
    },
    {
     "name": "stderr",
     "output_type": "stream",
     "text": [
      "2024-03-26 18:22:51.570082: W tensorflow/core/framework/local_rendezvous.cc:404] Local rendezvous is aborting with status: OUT_OF_RANGE: End of sequence\n",
      "\t [[{{node IteratorGetNext}}]]\n"
     ]
    },
    {
     "name": "stdout",
     "output_type": "stream",
     "text": [
      "\u001b[1m8/8\u001b[0m \u001b[32m━━━━━━━━━━━━━━━━━━━━\u001b[0m\u001b[37m\u001b[0m \u001b[1m3s\u001b[0m 391ms/step - accuracy: 0.5361 - loss: 0.2454\n",
      "Epoch 9/10\n"
     ]
    },
    {
     "name": "stderr",
     "output_type": "stream",
     "text": [
      "2024-03-26 18:22:54.746567: W tensorflow/core/framework/local_rendezvous.cc:404] Local rendezvous is aborting with status: OUT_OF_RANGE: End of sequence\n",
      "\t [[{{node IteratorGetNext}}]]\n"
     ]
    },
    {
     "name": "stdout",
     "output_type": "stream",
     "text": [
      "\u001b[1m8/8\u001b[0m \u001b[32m━━━━━━━━━━━━━━━━━━━━\u001b[0m\u001b[37m\u001b[0m \u001b[1m3s\u001b[0m 392ms/step - accuracy: 0.4921 - loss: 0.2593\n",
      "Epoch 10/10\n"
     ]
    },
    {
     "name": "stderr",
     "output_type": "stream",
     "text": [
      "2024-03-26 18:22:57.921314: W tensorflow/core/framework/local_rendezvous.cc:404] Local rendezvous is aborting with status: OUT_OF_RANGE: End of sequence\n",
      "\t [[{{node IteratorGetNext}}]]\n"
     ]
    },
    {
     "name": "stdout",
     "output_type": "stream",
     "text": [
      "\u001b[1m8/8\u001b[0m \u001b[32m━━━━━━━━━━━━━━━━━━━━\u001b[0m\u001b[37m\u001b[0m \u001b[1m3s\u001b[0m 386ms/step - accuracy: 0.4539 - loss: 0.2690\n"
     ]
    },
    {
     "name": "stderr",
     "output_type": "stream",
     "text": [
      "2024-03-26 18:23:01.046204: W tensorflow/core/framework/local_rendezvous.cc:404] Local rendezvous is aborting with status: OUT_OF_RANGE: End of sequence\n",
      "\t [[{{node IteratorGetNext}}]]\n"
     ]
    },
    {
     "data": {
      "text/plain": [
       "<keras.src.callbacks.history.History at 0x74d29c640450>"
      ]
     },
     "execution_count": 15,
     "metadata": {},
     "output_type": "execute_result"
    }
   ],
   "source": [
    "#train_products_list = touple_of_products[:(int)(0.8*2*number_of_samples)]\n",
    "#val_products_list = touple_of_products[(int)(0.8*2*number_of_samples) :]\n",
    "\n",
    "siamese.fit( touple_of_products, \n",
    "            #validation_split= imagesyy, \n",
    "            batch_size = batch_size,\n",
    "            epochs = epochs\n",
    "            )"
   ]
  },
  {
   "cell_type": "code",
   "execution_count": null,
   "id": "cf54a9da-95da-4cc5-acb2-5af0cee8cb42",
   "metadata": {},
   "outputs": [],
   "source": []
  },
  {
   "cell_type": "code",
   "execution_count": null,
   "id": "7598dfd5-92c4-4ede-b2ae-96fd097356d5",
   "metadata": {},
   "outputs": [],
   "source": []
  },
  {
   "cell_type": "markdown",
   "id": "53de4025-a850-4641-b62e-471bb304ea87",
   "metadata": {},
   "source": [
    "# Archiwum"
   ]
  },
  {
   "cell_type": "code",
   "execution_count": null,
   "id": "b4eea6d3-a818-4eff-9590-649d7fa6f430",
   "metadata": {},
   "outputs": [],
   "source": [
    "# print(len(train_products_list))\n",
    "# print(len(val_products_list))\n",
    "\n",
    "# x_train_1 = []\n",
    "# x_train_2 = []\n",
    "# labels_train = []\n",
    "# x_val_1 = []\n",
    "# x_val_2 = []\n",
    "# labels_val = []\n",
    "# for (img1, img2), label in train_products_list:\n",
    "#     x_train_1.append(img1)\n",
    "#     x_train_2.append(img2)\n",
    "#     labels_train.append(label)\n",
    "# for (img1, img2), label in val_products_list:\n",
    "#     x_val_1.append(img1)\n",
    "#     x_val_2.append(img2)\n",
    "#     labels_val.append(label)\n",
    "\n",
    "\n",
    "# print(x_train_1)\n",
    "# print(labels_train)"
   ]
  }
 ],
 "metadata": {
  "kernelspec": {
   "display_name": "Python 3 (ipykernel)",
   "language": "python",
   "name": "python3"
  },
  "language_info": {
   "codemirror_mode": {
    "name": "ipython",
    "version": 3
   },
   "file_extension": ".py",
   "mimetype": "text/x-python",
   "name": "python",
   "nbconvert_exporter": "python",
   "pygments_lexer": "ipython3",
   "version": "3.11.5"
  }
 },
 "nbformat": 4,
 "nbformat_minor": 5
}
