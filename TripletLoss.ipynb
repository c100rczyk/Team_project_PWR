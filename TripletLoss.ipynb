{
 "cells": [
  {
   "cell_type": "code",
   "outputs": [],
   "source": [
    "import matplotlib.pyplot as plt\n",
    "import numpy as np\n",
    "import os\n",
    "import random\n",
    "import tensorflow as tf\n",
    "from pathlib import Path\n",
    "from keras import applications\n",
    "from keras import layers\n",
    "from keras import losses\n",
    "from keras import ops\n",
    "from keras import optimizers\n",
    "from keras import metrics\n",
    "from keras import Model\n",
    "from keras.applications import resnet\n",
    "from utilities import paths\n",
    "from utilities import preprocessing\n",
    "from utilities import visualization"
   ],
   "metadata": {
    "collapsed": false
   },
   "id": "7fcc6ea457891215",
   "execution_count": null
  },
  {
   "cell_type": "code",
   "outputs": [],
   "source": [
    "anchor_images = sorted([paths.anchor_images_path + \"\\\\\" + f for f in os.listdir(paths.anchor_images_path)])\n",
    "positive_images = sorted([paths.positive_images_path + \"\\\\\" + f for f in os.listdir(paths.positive_images_path)])\n",
    "image_count = len(anchor_images)\n",
    "if image_count != len(positive_images):\n",
    "    raise Exception(\"Number of images in the datasets don't match\")"
   ],
   "metadata": {
    "collapsed": false
   },
   "id": "2d69143c5a4b74a9",
   "execution_count": null
  },
  {
   "cell_type": "code",
   "outputs": [],
   "source": [
    "anchor_dataset = tf.data.Dataset.from_tensor_slices(anchor_images)\n",
    "positive_dataset = tf.data.Dataset.from_tensor_slices(positive_images)"
   ],
   "metadata": {
    "collapsed": false
   },
   "id": "c5361d057d833e46",
   "execution_count": null
  },
  {
   "cell_type": "code",
   "outputs": [],
   "source": [
    "rng = np.random.RandomState(seed=42)\n",
    "rng.shuffle(anchor_images)\n",
    "rng.shuffle(positive_images)"
   ],
   "metadata": {
    "collapsed": false
   },
   "id": "343dc81ae70f7383",
   "execution_count": null
  },
  {
   "cell_type": "code",
   "outputs": [],
   "source": [
    "negative_images = anchor_images + positive_images\n",
    "np.random.RandomState(seed=32).shuffle(negative_images)"
   ],
   "metadata": {
    "collapsed": false
   },
   "id": "b7c7b3fd43ab6619",
   "execution_count": null
  },
  {
   "cell_type": "code",
   "outputs": [],
   "source": [
    "negative_dataset = tf.data.Dataset.from_tensor_slices(negative_images)\n",
    "negative_dataset = negative_dataset.shuffle(buffer_size=4096)"
   ],
   "metadata": {
    "collapsed": false
   },
   "id": "42cc514be2e85d0c",
   "execution_count": null
  },
  {
   "cell_type": "code",
   "outputs": [],
   "source": [
    "dataset = tf.data.Dataset.zip((anchor_dataset, positive_dataset, negative_dataset))\n",
    "dataset = dataset.shuffle(buffer_size=1024)\n",
    "dataset = dataset.map(preprocessing.preprocess_triplets)"
   ],
   "metadata": {
    "collapsed": false
   },
   "id": "4cd827be0cb94172",
   "execution_count": null
  },
  {
   "cell_type": "code",
   "outputs": [],
   "source": [
    "train_dataset = dataset.take(round(image_count * 0.8)) # images for training\n",
    "val_dataset = dataset.skip(round(image_count * 0.8)) # images for validation"
   ],
   "metadata": {
    "collapsed": false
   },
   "id": "13b37369573d7722",
   "execution_count": null
  },
  {
   "cell_type": "code",
   "outputs": [],
   "source": [
    "train_dataset = train_dataset.batch(32, drop_remainder=False)\n",
    "train_dataset = train_dataset.prefetch(tf.data.AUTOTUNE)\n",
    "\n",
    "val_dataset = val_dataset.batch(32, drop_remainder=False)\n",
    "val_dataset = val_dataset.prefetch(tf.data.AUTOTUNE)"
   ],
   "metadata": {
    "collapsed": false
   },
   "id": "176833db1c6c81d9",
   "execution_count": null
  },
  {
   "cell_type": "code",
   "outputs": [],
   "source": [
    "visualization.visualize(*list(train_dataset.take(1).as_numpy_iterator())[0]) #https://www.geeksforgeeks.org/python-star-or-asterisk-operator/ "
   ],
   "metadata": {
    "collapsed": false
   },
   "id": "e1caa0caae68a637",
   "execution_count": null
  },
  {
   "cell_type": "code",
   "outputs": [],
   "source": [],
   "metadata": {
    "collapsed": false
   },
   "id": "c3046cf86b85208b"
  }
 ],
 "metadata": {
  "kernelspec": {
   "name": "ml",
   "language": "python",
   "display_name": "Python (ml)"
  },
  "language_info": {
   "codemirror_mode": {
    "name": "ipython",
    "version": 2
   },
   "file_extension": ".py",
   "mimetype": "text/x-python",
   "name": "python",
   "nbconvert_exporter": "python",
   "pygments_lexer": "ipython2",
   "version": "2.7.6"
  }
 },
 "nbformat": 4,
 "nbformat_minor": 5
}
