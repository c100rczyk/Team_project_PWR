{
 "cells": [
  {
   "cell_type": "markdown",
   "source": [
    "# Guidelines for selecting Representatives\n",
    "\n",
    "## 5 representants:\n",
    "+ słabsze oświetlenie, 3-4 owoce, ułożone obok siebie , umieszczone bardziej na boku\n",
    "+ dobrze oświetlone / lekko prześwietlone , 7-9 owoców, ułożone obok siebie, umieszczone ok. na środku\n",
    "+ dobrze oświetlone, 1 owoc, umieszczony ok. na środku\n",
    "+ kilka owoców, jeden na drugim\n",
    "+ ucięte zdjęcie tacki"
   ],
   "metadata": {
    "collapsed": false
   },
   "id": "c34eabe89cdb7fb3"
  },
  {
   "cell_type": "markdown",
   "source": [
    "## 10 representatives\n",
    "\n",
    "Te co były dla 5 PLUS:\n",
    "\n",
    "+ wyróżniające się owoce , np lekko zgniły\n",
    "+ zdjęcie z ręką\n",
    "+ mocniej przyciemnione zdjęcie\n",
    "+ jeden owoc gdzieś na boku\n",
    "+ ucięte zdjęcie tacki i owoców\n",
    "\n"
   ],
   "metadata": {
    "collapsed": false
   },
   "id": "b4cde55771843c75"
  },
  {
   "cell_type": "markdown",
   "source": [
    "Im mniej produktów tym ważniejsze jest aby dobrać odpowiednie produktu, zamiast je wylosować.\n",
    "\n",
    "Testy wstępne na bardzo lekko douczonym modelu (warstw gęstych) po transfer learningu przyniosły poniższe rezultaty:\n",
    "(testy prowadzone na losowo wybieranych reprezentantach).\n",
    "\n",
    "![picture](VGG_test1.png)\n",
    "![picture](VGG_test2.png)"
   ],
   "metadata": {
    "collapsed": false
   },
   "id": "e0a2af237dd481f4"
  },
  {
   "cell_type": "markdown",
   "source": [
    "## Wnioski\n",
    "\n",
    "+ Jeden reprezentant znacząco odstaje od 3 reprezentantów.\n",
    "+ Zwiększenie ilości reprezentantów do 10 dało bardzo duży skok wydajności modelu.\n",
    "+ Zwiększenie ilości reprezentantów do 15 nie usprawniło modelu (mniejszy wynik \n",
    "    za sprawą losowego doboru zdjęć). Tym razem dobrały się mniej różnorodnie.\n"
   ],
   "metadata": {
    "collapsed": false
   },
   "id": "50f3721ddf5e5998"
  },
  {
   "cell_type": "code",
   "outputs": [],
   "source": [],
   "metadata": {
    "collapsed": false
   },
   "id": "df069482d041bf43"
  }
 ],
 "metadata": {
  "kernelspec": {
   "display_name": "Python 3",
   "language": "python",
   "name": "python3"
  },
  "language_info": {
   "codemirror_mode": {
    "name": "ipython",
    "version": 2
   },
   "file_extension": ".py",
   "mimetype": "text/x-python",
   "name": "python",
   "nbconvert_exporter": "python",
   "pygments_lexer": "ipython2",
   "version": "2.7.6"
  }
 },
 "nbformat": 4,
 "nbformat_minor": 5
}
